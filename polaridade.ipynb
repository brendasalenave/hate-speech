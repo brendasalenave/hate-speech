import pandas as pd


data = pd.read_csv('SentiLex-lem-PT02.txt',sep=';',header=None)

print(data.head())
